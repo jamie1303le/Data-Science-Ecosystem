{
 "cells": [
  {
   "cell_type": "markdown",
   "id": "d68d401d-b7bf-4d25-93f3-848a1d4a97d4",
   "metadata": {},
   "source": [
    "# Data Science Tools and Ecosytem"
   ]
  },
  {
   "cell_type": "markdown",
   "id": "4cc24aee-113b-40cf-8203-69d3cf997001",
   "metadata": {},
   "source": [
    "## In this notebookm Data Science Tools and Ecosystem are summarized"
   ]
  },
  {
   "cell_type": "markdown",
   "id": "d1f34463-cbc0-4c03-89b5-aa4b452db500",
   "metadata": {},
   "source": [
    "Some of the popular language that Data Scientists use are:\n",
    "1. Python\n",
    "2. SQL\n",
    "3. Java"
   ]
  },
  {
   "cell_type": "code",
   "execution_count": null,
   "id": "6693f7f7-d914-4b9c-8f31-63bcf51bec43",
   "metadata": {},
   "outputs": [],
   "source": [
    "Some of the popular language that Data Scientists use are:\n",
    "1. Python\n",
    "2. SQL\n",
    "3. Java"
   ]
  },
  {
   "cell_type": "markdown",
   "id": "e87c6c85-2a17-41f9-9e67-889e2124e3a3",
   "metadata": {},
   "source": [
    "Some of the commonly used libraries used by Data Scientists includes:\n",
    "1. Pandas\n",
    "2. Tensor Flow\n",
    "3. NumPy"
   ]
  },
  {
   "cell_type": "markdown",
   "id": "e2bba6e8-169a-4a03-968e-509780d15783",
   "metadata": {},
   "source": [
    "### Data Science Tools:\n",
    "| Number    |   Name           |\n",
    "|-----------|------------------|\n",
    "| 1         | Jupyter Notebook |\n",
    "| 2         | RStudio          |\n",
    "| 3         | Apache Spark     |"
   ]
  },
  {
   "cell_type": "code",
   "execution_count": null,
   "id": "407195d1-417d-478f-9333-b6b739cb5857",
   "metadata": {},
   "outputs": [],
   "source": [
    "### Data Science Tools:\n",
    "| Number    |   Name           |\n",
    "|-----------|------------------|\n",
    "| 1         | Jupyter Notebook |\n",
    "| 2         | RStudio          |\n",
    "| 3         | Apache Spark     |"
   ]
  },
  {
   "cell_type": "markdown",
   "id": "a6c92cb8-736e-452e-aac6-01208ab283e1",
   "metadata": {},
   "source": [
    "### Below are a few examples of evaluating arithmetic expressions in Python"
   ]
  },
  {
   "cell_type": "code",
   "execution_count": 8,
   "id": "6b7fbeff-46ec-47c8-b4e0-5ad004321856",
   "metadata": {},
   "outputs": [
    {
     "data": {
      "text/plain": [
       "17"
      ]
     },
     "execution_count": 8,
     "metadata": {},
     "output_type": "execute_result"
    }
   ],
   "source": [
    "# This a simple arithmetic expression to mutiply then add integers\n",
    "(3*4)+5"
   ]
  },
  {
   "cell_type": "code",
   "execution_count": 7,
   "id": "8c8227a9-59a6-4fb2-9993-0a6b724bb69f",
   "metadata": {},
   "outputs": [
    {
     "data": {
      "text/plain": [
       "3.3333333333333335"
      ]
     },
     "execution_count": 7,
     "metadata": {},
     "output_type": "execute_result"
    }
   ],
   "source": [
    "# This will convert 200 minutes to hours by diving by 60\n",
    "200/60"
   ]
  },
  {
   "cell_type": "markdown",
   "id": "32eb3118-529d-4496-ad42-a919c1d8b6e9",
   "metadata": {},
   "source": [
    "List popular languages for Data Science:\n",
    "**Objectives:**\n",
    "- Jupyter\n",
    "- R\n",
    "- SQL\n",
    "- Scala\n",
    "- Julia"
   ]
  },
  {
   "cell_type": "code",
   "execution_count": null,
   "id": "f8df6587-0b1e-409e-a048-5a5162ad43b2",
   "metadata": {},
   "outputs": [],
   "source": [
    "List popular languages for Data Science:\n",
    "**Objectives:**\n",
    "- Jupyter\n",
    "- R\n",
    "- SQL\n",
    "- Scala\n",
    "- Julia"
   ]
  },
  {
   "cell_type": "markdown",
   "id": "5d51e0d4-efd6-4063-b4f4-8bd27aa42e7e",
   "metadata": {},
   "source": [
    "## Author: \n",
    "Quoc Thao LE"
   ]
  },
  {
   "cell_type": "markdown",
   "id": "cdd622e5-960e-4fe8-8f5c-d02ffe934125",
   "metadata": {},
   "source": [
    "## Author:\n",
    "Quoc Thao LE"
   ]
  }
 ],
 "metadata": {
  "kernelspec": {
   "display_name": "Python [conda env:base] *",
   "language": "python",
   "name": "conda-base-py"
  },
  "language_info": {
   "codemirror_mode": {
    "name": "ipython",
    "version": 3
   },
   "file_extension": ".py",
   "mimetype": "text/x-python",
   "name": "python",
   "nbconvert_exporter": "python",
   "pygments_lexer": "ipython3",
   "version": "3.13.5"
  }
 },
 "nbformat": 4,
 "nbformat_minor": 5
}
